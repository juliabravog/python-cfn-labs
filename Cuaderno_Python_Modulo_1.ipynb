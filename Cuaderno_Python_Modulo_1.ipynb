{
 "cells": [
  {
   "cell_type": "markdown",
   "id": "e4b6d0b2",
   "metadata": {},
   "source": [
    "\n",
    "📂 **Antes de comenzar este laboratorio:**\n",
    "\n",
    "1. Descarga el archivo de datos desde el repositorio de GitHub:\n",
    "\n",
    "👉 [REPORTE VOLUMEN DE CREDITO 2024_12.xlsx](https://github.com/juliabravog/python-cfn-labs/raw/main/REPORTE%20VOLUMEN%20DE%20CREDITO%202024_12.xlsx)\n",
    "\n",
    "2. Luego, en Google Colab:\n",
    "   - Haz clic en el ícono de la carpeta 📁 a la izquierda\n",
    "   - Haz clic en “Subir archivo”\n",
    "   - Selecciona el archivo que descargaste\n",
    "\n",
    "3. Una vez cargado, ejecuta la celda para trabajar con el archivo.\n"
   ]
  },
  {
   "cell_type": "markdown",
   "id": "a8c55127",
   "metadata": {},
   "source": [
    "# 🧠 Módulo 1 – ¿Por qué Python para analistas de negocios?\n",
    "Este módulo te mostrará por qué Python puede ser una herramienta poderosa para tareas que con Excel resultan lentas o repetitivas."
   ]
  },
  {
   "cell_type": "markdown",
   "id": "5a6af92b",
   "metadata": {},
   "source": [
    "## ✅ Actividad 1: Tu primer código en Python"
   ]
  },
  {
   "cell_type": "code",
   "execution_count": null,
   "id": "ff1b2ceb",
   "metadata": {},
   "outputs": [],
   "source": [
    "print('Hola, mundo de los datos')"
   ]
  },
  {
   "cell_type": "markdown",
   "id": "4be7e00f",
   "metadata": {},
   "source": [
    "## ✅ Actividad 2: ¿Qué te gustaría automatizar?\n",
    "Piensa en algo que hoy hagas en Excel y que te gustaría resolver con Python. Solo reflexiona o escríbelo como comentario aquí:\n",
    "# Por ejemplo:\n",
    "# - Consolidar reportes mensuales\n",
    "# - Calcular promedios sin errores humanos"
   ]
  }
 ],
 "metadata": {},
 "nbformat": 4,
 "nbformat_minor": 5
}
