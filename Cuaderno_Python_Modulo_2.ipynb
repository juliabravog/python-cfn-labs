{
 "cells": [
  {
   "cell_type": "markdown",
   "id": "7bc6e78e",
   "metadata": {},
   "source": [
    "# 📊 Módulo 2 – Exploración de datos con Pandas"
   ]
  },
  {
   "cell_type": "markdown",
   "id": "a58f7be9",
   "metadata": {},
   "source": [
    "## 📦 ¿Qué es pandas?\n",
    "`pandas` es una librería de Python que nos permite trabajar con datos como si fueran tablas de Excel. Su estructura principal es el `DataFrame`."
   ]
  },
  {
   "cell_type": "code",
   "execution_count": null,
   "id": "6e0e07f4",
   "metadata": {},
   "outputs": [],
   "source": [
    "import pandas as pd"
   ]
  },
  {
   "cell_type": "markdown",
   "id": "ecca928d",
   "metadata": {},
   "source": [
    "## 📁 Cargar archivo Excel\n",
    "Sube tu archivo a Colab antes de ejecutar esta celda."
   ]
  },
  {
   "cell_type": "code",
   "execution_count": null,
   "id": "36780b7f",
   "metadata": {},
   "outputs": [],
   "source": [
    "df = pd.read_excel('REPORTE VOLUMEN DE CREDITO 2024_12.xlsx', skiprows=8)\n",
    "df.head()"
   ]
  },
  {
   "cell_type": "markdown",
   "id": "ecac1dfb",
   "metadata": {},
   "source": [
    "## 🔍 Explorar el contenido del archivo"
   ]
  },
  {
   "cell_type": "code",
   "execution_count": null,
   "id": "a7d41659",
   "metadata": {},
   "outputs": [],
   "source": [
    "df.columns  # Ver nombres de columnas"
   ]
  },
  {
   "cell_type": "code",
   "execution_count": null,
   "id": "1e55dbe0",
   "metadata": {},
   "outputs": [],
   "source": [
    "df.shape  # Ver cuántas filas y columnas hay"
   ]
  },
  {
   "cell_type": "code",
   "execution_count": null,
   "id": "bbe3b1c7",
   "metadata": {},
   "outputs": [],
   "source": [
    "df.dtypes  # Ver tipos de datos"
   ]
  },
  {
   "cell_type": "code",
   "execution_count": null,
   "id": "b38f891e",
   "metadata": {},
   "outputs": [],
   "source": [
    "df['PROVINCIA'].unique()  # Valores únicos en una columna"
   ]
  },
  {
   "cell_type": "code",
   "execution_count": null,
   "id": "9d5876c3",
   "metadata": {},
   "outputs": [],
   "source": [
    "df.isnull().sum()  # Ver valores faltantes"
   ]
  },
  {
   "cell_type": "markdown",
   "id": "b133c0e9",
   "metadata": {},
   "source": [
    "## 💬 Reflexiona\n",
    "- ¿Qué columnas parecen útiles?\n",
    "- ¿Hay columnas con muchos valores vacíos?\n",
    "- ¿Qué tipos de datos podrían darte problemas?"
   ]
  }
 ],
 "metadata": {},
 "nbformat": 4,
 "nbformat_minor": 5
}
